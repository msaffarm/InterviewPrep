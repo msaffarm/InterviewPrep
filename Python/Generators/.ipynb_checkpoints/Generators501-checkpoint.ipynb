{
 "cells": [
  {
   "cell_type": "markdown",
   "metadata": {},
   "source": [
    "### All about generators in Python "
   ]
  },
  {
   "cell_type": "code",
   "execution_count": 15,
   "metadata": {},
   "outputs": [
    {
     "name": "stdout",
     "output_type": "stream",
     "text": [
      "1\n",
      "N is 1\n",
      "2\n"
     ]
    }
   ],
   "source": [
    "def simple_gen():\n",
    "    n = 1\n",
    "    yield n\n",
    "    print(\"N is {}\".format(n))\n",
    "    \n",
    "    n += 1\n",
    "    yield n\n",
    "    print(\"N is {}\".format(n))\n",
    "\n",
    "    \n",
    "g = simple_gen()\n",
    "for _ in range(2):\n",
    "    print(next(g))"
   ]
  },
  {
   "cell_type": "code",
   "execution_count": 22,
   "metadata": {},
   "outputs": [
    {
     "name": "stdout",
     "output_type": "stream",
     "text": [
      "[1, 2, 3, 4, 5, 6, 7, 8, 9, 10, 11, 12, 13, 14, 15, 16, 17, 18, 19, 20, 21, 22, 23, 24, 25, 26, 27, 28, 29, 30, 31, 32, 33, 34, 35, 36, 37, 38, 39, 40, 41, 42, 43, 44, 45, 46, 47, 48, 49, 50, 51, 52, 53, 54, 55, 56, 57, 58, 59, 60, 61, 62, 63, 64, 65, 66, 67, 68, 69, 70, 71, 72, 73, 74, 75, 76, 77, 78, 79, 80, 81, 82, 83, 84, 85, 86, 87, 88, 89, 90, 91, 92, 93, 94, 95, 96, 97, 98, 99, 100]\n"
     ]
    }
   ],
   "source": [
    "def number_gen():\n",
    "    n = 1\n",
    "    while True:\n",
    "        yield n\n",
    "        n += 1\n",
    "\n",
    "from itertools import islice\n",
    "print(list(islice(number_gen(),100)))"
   ]
  },
  {
   "cell_type": "code",
   "execution_count": 32,
   "metadata": {},
   "outputs": [
    {
     "name": "stdout",
     "output_type": "stream",
     "text": [
      "[1, 2]\n",
      "[3, 4]\n",
      "[5, 6]\n",
      "[7, 8]\n",
      "[9, 10]\n",
      "[1, 2]\n",
      "[3, 4]\n",
      "[5, 6]\n",
      "[7, 8]\n",
      "[9, 10]\n"
     ]
    }
   ],
   "source": [
    "def iterator(l,k):\n",
    "    i = 0\n",
    "    while True:\n",
    "        yield l[i:i+k]\n",
    "        i += k\n",
    "        if i == len(l):\n",
    "            i = 0\n",
    "\n",
    "l = list(range(1,11))\n",
    "k = 2\n",
    "iterator = iterator(l,k)\n",
    "for _ in range(10):\n",
    "    print(next(iterator))"
   ]
  },
  {
   "cell_type": "code",
   "execution_count": 42,
   "metadata": {},
   "outputs": [
    {
     "name": "stdout",
     "output_type": "stream",
     "text": [
      "[1, 2]\n"
     ]
    }
   ],
   "source": [
    "# Iterator implement two functions __init__ and __next__\n",
    "# The __init__ usually returns the object itself or another itertor object\n",
    "# __next__ returns the next data\n",
    "class Iterator():\n",
    "    def __init__(self,l,k):\n",
    "        self.l = l\n",
    "        self.k = k\n",
    "    \n",
    "    def __iter__(self):\n",
    "        self.i = 0\n",
    "        return self\n",
    "    \n",
    "    def __next__(self):\n",
    "        while True:\n",
    "            ans = l[self.i:self.i+k]\n",
    "            self.i +=k\n",
    "            if self.i==len(l):\n",
    "                self.i = 0\n",
    "            return ans\n",
    "\n",
    "class infIter():\n",
    "    def __init__(self,l,k):\n",
    "        self.l = l\n",
    "        self.k = k\n",
    "    \n",
    "    def __iter__(self):\n",
    "        i = 0\n",
    "        for _ in range(5)\n",
    "            yield l[i:i+k]\n",
    "            i += k\n",
    "            if i == len(l):\n",
    "                i = 0\n",
    "\n",
    "\n",
    "l = list(range(1,11))\n",
    "k = 2\n",
    "iterator = iter(Iterator(l,k))\n",
    "# for _ in range(10):\n",
    "#     print(next(iterator))\n",
    "\n",
    "infiter = infIter(l,k)\n",
    "for x in infiter:\n",
    "    print(x)"
   ]
  },
  {
   "cell_type": "code",
   "execution_count": null,
   "metadata": {},
   "outputs": [],
   "source": []
  }
 ],
 "metadata": {
  "kernelspec": {
   "display_name": "Python 3",
   "language": "python",
   "name": "python3"
  },
  "language_info": {
   "codemirror_mode": {
    "name": "ipython",
    "version": 3
   },
   "file_extension": ".py",
   "mimetype": "text/x-python",
   "name": "python",
   "nbconvert_exporter": "python",
   "pygments_lexer": "ipython3",
   "version": "3.6.3"
  }
 },
 "nbformat": 4,
 "nbformat_minor": 2
}
