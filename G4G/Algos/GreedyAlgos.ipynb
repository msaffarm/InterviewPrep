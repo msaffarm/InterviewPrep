{
 "cells": [
  {
   "cell_type": "markdown",
   "metadata": {},
   "source": [
    "Notes from https://www.geeksforgeeks.org/activity-selection-problem-greedy-algo-1/\n",
    "* Greedy is an algorithmic paradigm that builds up a solution piece by piece, always choosing the next piece that of fers the most obvious and immediate benefit. Greedy algorithms are used for optimization problems\n",
    "* If a Greedy Algorithm can solve a problem, then it generally becomes the best method to solve that problem as the Greedy algorithms are in general more efficient than other techniques like Dynamic Programming. But Greedy algorithms cannot always be applied"
   ]
  },
  {
   "cell_type": "markdown",
   "metadata": {},
   "source": [
    "## Activity Selection Problem"
   ]
  },
  {
   "cell_type": "markdown",
   "metadata": {},
   "source": [
    "You are given n activities with their start and finish times. Select the maximum number of activities that can be performed by a single person, assuming that a person can only work on a single activity at a time\n",
    "\n",
    "Example 1 : Consider the following 3 activities sorted by\n",
    "by finish time.\n",
    "\n",
    "     start[]  =  {10, 12, 20};\n",
    "\n",
    "    finish[] =  {20, 25, 30};\n",
    "\n",
    "A person can perform at most two activities. The \n",
    "maximum set of activities that can be executed \n",
    "is {0, 2} [ These are indexes in start[] and \n",
    "finish[] ]"
   ]
  },
  {
   "cell_type": "code",
   "execution_count": 10,
   "metadata": {},
   "outputs": [
    {
     "name": "stdout",
     "output_type": "stream",
     "text": [
      "2\n",
      "4\n"
     ]
    }
   ],
   "source": [
    "# Sort based on finishin time (Think about it. It's the optimal way)\n",
    "\n",
    "def select_activites(start_list,finish_list):\n",
    "    assert len(start_list)==len(finish_list)\n",
    "    \n",
    "    # finish_list is already sorted!\n",
    "    number_of_activities = 1 # first in the finish list is selected\n",
    "    prev_activity = 0\n",
    "    for idx in range(1,len(finish_list)):\n",
    "        if start_list[idx] >= finish_list[prev_activity]:\n",
    "            prev_activity = idx\n",
    "            number_of_activities += 1\n",
    "    \n",
    "    return number_of_activities\n",
    "\n",
    "\n",
    "print(select_activites(start_list=[10,12,20],finish_list=[20,25,30]))\n",
    "print(select_activites([1, 3, 0, 5, 8, 5],[2, 4, 6, 7, 9, 9]))\n"
   ]
  },
  {
   "cell_type": "markdown",
   "metadata": {},
   "source": [
    "## Egyptian Fraction Problem"
   ]
  },
  {
   "cell_type": "markdown",
   "metadata": {},
   "source": [
    "Every positive fraction can be represented as sum of unique unit fractions. A fraction is unit fraction if numerator is 1 and denominator is a positive integer.\n",
    "\n",
    "Egyptian Fraction Representation of 2/3 is 1/2 + 1/6\n",
    "\n",
    "Egyptian Fraction Representation of 6/14 is 1/3 + 1/11 + 1/231\n",
    "\n",
    "Egyptian Fraction Representation of 12/13 is 1/2 + 1/3 + 1/12 + 1/156\n"
   ]
  },
  {
   "cell_type": "code",
   "execution_count": 26,
   "metadata": {},
   "outputs": [
    {
     "name": "stdout",
     "output_type": "stream",
     "text": [
      "[2, 6]\n",
      "[2, 3, 12, 156]\n"
     ]
    }
   ],
   "source": [
    "def get_denominators(nr,dr):\n",
    "    i = 2\n",
    "    dr_list = []\n",
    "    while nr:\n",
    "        if i*nr >= dr:\n",
    "            dr_list.append(i)\n",
    "            nr,dr = i*nr - dr, i*dr\n",
    "        i += 1\n",
    "    \n",
    "    return dr_list\n",
    "\n",
    "print(get_denominators(2,3))\n",
    "print(get_denominators(12,13))"
   ]
  },
  {
   "cell_type": "code",
   "execution_count": null,
   "metadata": {},
   "outputs": [],
   "source": []
  }
 ],
 "metadata": {
  "kernelspec": {
   "display_name": "Python 3",
   "language": "python",
   "name": "python3"
  },
  "language_info": {
   "codemirror_mode": {
    "name": "ipython",
    "version": 3
   },
   "file_extension": ".py",
   "mimetype": "text/x-python",
   "name": "python",
   "nbconvert_exporter": "python",
   "pygments_lexer": "ipython3",
   "version": "3.6.3"
  }
 },
 "nbformat": 4,
 "nbformat_minor": 2
}
