{
 "cells": [
  {
   "cell_type": "markdown",
   "metadata": {},
   "source": [
    "## Linked List Data Structure\n",
    "**Source: **https://www.geeksforgeeks.org/data-structures/linked-list/"
   ]
  },
  {
   "cell_type": "code",
   "execution_count": 1,
   "metadata": {
    "collapsed": true
   },
   "outputs": [],
   "source": [
    "class Node(object):\n",
    "    def __init__(self,val=None):\n",
    "        self.val = val\n",
    "        self.next = None\n",
    "        self.prev = None\n"
   ]
  },
  {
   "cell_type": "markdown",
   "metadata": {},
   "source": [
    "## Singly Linked List"
   ]
  },
  {
   "cell_type": "code",
   "execution_count": 9,
   "metadata": {
    "collapsed": false
   },
   "outputs": [
    {
     "name": "stdout",
     "output_type": "stream",
     "text": [
      "5->1->6->9->8->13\n",
      "5->1->6->8->13\n"
     ]
    }
   ],
   "source": [
    "class LinkedList(object):\n",
    "    def __init__(self,head=None):\n",
    "        self.head = head\n",
    "    \n",
    "    def add_node(self,node):\n",
    "        cur_node = self.head\n",
    "        while cur_node.next:\n",
    "            cur_node = cur_node.next\n",
    "        cur_node.next = node\n",
    "    \n",
    "    def add_nodes(self,node_list):\n",
    "        cur_node = self.head\n",
    "        while cur_node.next:\n",
    "            cur_node = cur_node.next\n",
    "        for n in node_list:\n",
    "            cur_node.next = n\n",
    "            cur_node = cur_node.next\n",
    "    \n",
    "    def delete_node(self,val):\n",
    "        cur_node = self.head\n",
    "        if cur_node.val==val:\n",
    "            self.head = cur_node.next\n",
    "            cur_node = None\n",
    "            return\n",
    "        prev_node = cur_node\n",
    "        cur_node = cur_node.next\n",
    "        while cur_node:\n",
    "            if cur_node.val==val:\n",
    "                prev_node.next = cur_node.next\n",
    "                cur_node = None\n",
    "                return\n",
    "            prev_node = cur_node\n",
    "            cur_node = cur_node.next\n",
    "        \n",
    "    def __str__(self):\n",
    "        rep = \"\"\n",
    "        cur_node = self.head\n",
    "        while cur_node:\n",
    "            rep += str(cur_node.val) + \"->\"\n",
    "            cur_node = cur_node.next\n",
    "        return rep[:-2]\n",
    "            \n",
    "        \n",
    "head = Node(5)\n",
    "l = LinkedList(head)\n",
    "l.add_nodes([Node(1),Node(6),Node(9),Node(8),Node(13)])\n",
    "print(l)\n",
    "l.delete_node(9)\n",
    "print(l)\n",
    "            "
   ]
  },
  {
   "cell_type": "markdown",
   "metadata": {},
   "source": [
    "**Get length of linkedlist**"
   ]
  },
  {
   "cell_type": "code",
   "execution_count": 12,
   "metadata": {
    "collapsed": false
   },
   "outputs": [
    {
     "name": "stdout",
     "output_type": "stream",
     "text": [
      "5->1->6->8->13\n",
      "5\n",
      "5\n"
     ]
    }
   ],
   "source": [
    "def get_length(head):\n",
    "    length = 0\n",
    "    cur_node = head\n",
    "    while cur_node:\n",
    "        length+=1\n",
    "        cur_node = cur_node.next\n",
    "    return length\n",
    "\n",
    "def get_length_recursive(node):\n",
    "    if not node:\n",
    "        return 0\n",
    "    return 1 + get_length_recursive(node.next)\n",
    "    \n",
    "\n",
    "print(l)\n",
    "print(get_length(l.head))\n",
    "print(get_length_recursive(l.head))\n"
   ]
  },
  {
   "cell_type": "markdown",
   "metadata": {},
   "source": [
    "** Swap Nodes without moving data **"
   ]
  },
  {
   "cell_type": "code",
   "execution_count": 17,
   "metadata": {
    "collapsed": false
   },
   "outputs": [
    {
     "name": "stdout",
     "output_type": "stream",
     "text": [
      "5->1->6->9->8->13->21->3->10->22->31\n"
     ]
    }
   ],
   "source": [
    "def find_nodes(head,val):\n",
    "    cur_node = head\n",
    "    prev_node = None\n",
    "    while cur_node:\n",
    "        if cur_node.val==val:\n",
    "            break\n",
    "        prev_node = cur_node\n",
    "        cur_node = cur_node.next\n",
    "    \n",
    "    return cur_node,prev_node\n",
    "\n",
    "def swap_nodes(haed,x,y):\n",
    "    #find x\n",
    "    curx,prevx = find_nodes(head,x)\n",
    "    #find y\n",
    "    cury,prevy = find_nodes(head,y)\n",
    "    \n",
    "    \n",
    "    \n",
    "            \n",
    "\n",
    "\n",
    "head = Node(5)\n",
    "l = LinkedList(head)\n",
    "l.add_nodes([Node(1),Node(6),Node(9),Node(8),Node(13),Node(21),Node(3),Node(10),Node(22),Node(31)])\n",
    "print(l)"
   ]
  },
  {
   "cell_type": "code",
   "execution_count": null,
   "metadata": {
    "collapsed": true
   },
   "outputs": [],
   "source": []
  }
 ],
 "metadata": {
  "anaconda-cloud": {},
  "kernelspec": {
   "display_name": "Python [conda root]",
   "language": "python",
   "name": "conda-root-py"
  },
  "language_info": {
   "codemirror_mode": {
    "name": "ipython",
    "version": 3
   },
   "file_extension": ".py",
   "mimetype": "text/x-python",
   "name": "python",
   "nbconvert_exporter": "python",
   "pygments_lexer": "ipython3",
   "version": "3.5.2"
  }
 },
 "nbformat": 4,
 "nbformat_minor": 2
}
