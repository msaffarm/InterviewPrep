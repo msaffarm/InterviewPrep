{
 "cells": [
  {
   "cell_type": "markdown",
   "metadata": {},
   "source": [
    "## Linked List Data Structure\n",
    "**Source: **https://www.geeksforgeeks.org/data-structures/linked-list/"
   ]
  },
  {
   "cell_type": "code",
   "execution_count": 3,
   "metadata": {
    "collapsed": true
   },
   "outputs": [],
   "source": [
    "class Node(object):\n",
    "    def __init__(self,val=None):\n",
    "        self.val = val\n",
    "        self.next = None\n",
    "        self.prev = None\n"
   ]
  },
  {
   "cell_type": "markdown",
   "metadata": {},
   "source": [
    "## Singly Linked List"
   ]
  },
  {
   "cell_type": "code",
   "execution_count": 4,
   "metadata": {
    "collapsed": false
   },
   "outputs": [
    {
     "name": "stdout",
     "output_type": "stream",
     "text": [
      "5->1->6->9->8->13\n",
      "5->1->6->8->13\n"
     ]
    }
   ],
   "source": [
    "class LinkedList(object):\n",
    "    def __init__(self,head=None):\n",
    "        self.head = head\n",
    "    \n",
    "    def add_node(self,node):\n",
    "        cur_node = self.head\n",
    "        while cur_node.next:\n",
    "            cur_node = cur_node.next\n",
    "        cur_node.next = node\n",
    "    \n",
    "    def add_nodes(self,node_list):\n",
    "        cur_node = self.head\n",
    "        while cur_node.next:\n",
    "            cur_node = cur_node.next\n",
    "        for n in node_list:\n",
    "            cur_node.next = n\n",
    "            cur_node = cur_node.next\n",
    "    \n",
    "    def delete_node(self,val):\n",
    "        cur_node = self.head\n",
    "        if cur_node.val==val:\n",
    "            self.head = cur_node.next\n",
    "            cur_node = None\n",
    "            return\n",
    "        prev_node = cur_node\n",
    "        cur_node = cur_node.next\n",
    "        while cur_node:\n",
    "            if cur_node.val==val:\n",
    "                prev_node.next = cur_node.next\n",
    "                cur_node = None\n",
    "                return\n",
    "            prev_node = cur_node\n",
    "            cur_node = cur_node.next\n",
    "        \n",
    "    def __str__(self):\n",
    "        rep = \"\"\n",
    "        cur_node = self.head\n",
    "        while cur_node:\n",
    "            rep += str(cur_node.val) + \"->\"\n",
    "            cur_node = cur_node.next\n",
    "        return rep[:-2]\n",
    "            \n",
    "        \n",
    "head = Node(5)\n",
    "l = LinkedList(head)\n",
    "l.add_nodes([Node(1),Node(6),Node(9),Node(8),Node(13)])\n",
    "print(l)\n",
    "l.delete_node(9)\n",
    "print(l)\n",
    "            "
   ]
  },
  {
   "cell_type": "markdown",
   "metadata": {},
   "source": [
    "**Get length of linkedlist**"
   ]
  },
  {
   "cell_type": "code",
   "execution_count": 25,
   "metadata": {
    "collapsed": false
   },
   "outputs": [
    {
     "name": "stdout",
     "output_type": "stream",
     "text": [
      "5->1->6->8->13\n",
      "5\n",
      "5\n"
     ]
    }
   ],
   "source": [
    "def get_length(head):\n",
    "    length = 0\n",
    "    cur_node = head\n",
    "    while cur_node:\n",
    "        length+=1\n",
    "        cur_node = cur_node.next\n",
    "    return length\n",
    "\n",
    "def get_length_recursive(node):\n",
    "    if not node:\n",
    "        return 0\n",
    "    return 1 + get_length_recursive(node.next)\n",
    "    \n",
    "\n",
    "print(l)\n",
    "print(get_length(l.head))\n",
    "print(get_length_recursive(l.head))\n"
   ]
  },
  {
   "cell_type": "markdown",
   "metadata": {},
   "source": [
    "** Swap Nodes without moving data **"
   ]
  },
  {
   "cell_type": "code",
   "execution_count": 26,
   "metadata": {
    "collapsed": false
   },
   "outputs": [
    {
     "name": "stdout",
     "output_type": "stream",
     "text": [
      "5->1->6->9->8->13->21->3->10->22->31\n",
      "31->1->6->9->8->13->21->3->10->22->5\n"
     ]
    }
   ],
   "source": [
    "def find_nodes(head,val):\n",
    "    cur_node = head\n",
    "    prev_node = None\n",
    "    while cur_node:\n",
    "        if cur_node.val==val:\n",
    "            break\n",
    "        prev_node = cur_node\n",
    "        cur_node = cur_node.next\n",
    "    \n",
    "    return cur_node,prev_node\n",
    "\n",
    "def swap_nodes(l,x,y):\n",
    "    #find x\n",
    "    cur_x,prev_x = find_nodes(l.head,x)\n",
    "    #find y\n",
    "    cur_y,prev_y = find_nodes(l.head,y)\n",
    "    # unplug x\n",
    "    if prev_x!=None:\n",
    "        prev_x.next = cur_y\n",
    "    else:\n",
    "        l.head = cur_y\n",
    "    if prev_y!=None:\n",
    "        prev_y.next = cur_x\n",
    "    else:\n",
    "        l.head = cur_x\n",
    "    tmp = cur_x.next\n",
    "    cur_x.next = cur_y.next\n",
    "    cur_y.next = tmp\n",
    "\n",
    "\n",
    "head = Node(5)\n",
    "l = LinkedList(head)\n",
    "l.add_nodes([Node(1),Node(6),Node(9),Node(8),Node(13),Node(21),Node(3),Node(10),Node(22),Node(31)])\n",
    "print(l)\n",
    "swap_nodes(l,31,5)\n",
    "print(l)"
   ]
  },
  {
   "cell_type": "markdown",
   "metadata": {},
   "source": [
    "**Find middle of linkedlist with two pointers!**"
   ]
  },
  {
   "cell_type": "code",
   "execution_count": 27,
   "metadata": {
    "collapsed": false
   },
   "outputs": [
    {
     "name": "stdout",
     "output_type": "stream",
     "text": [
      "31->1->6->9->8->13->21->3->10->22->5\n",
      "11\n",
      "13\n"
     ]
    }
   ],
   "source": [
    "# https://www.geeksforgeeks.org/write-a-c-function-to-print-the-middle-of-the-linked-list/\n",
    "def find_middle(head):\n",
    "    one_stepper = head\n",
    "    two_stepper = head\n",
    "    while one_stepper or two_stepper:\n",
    "        for _ in range(2):\n",
    "            if two_stepper:\n",
    "                two_stepper = two_stepper.next\n",
    "        if not two_stepper:\n",
    "            return one_stepper.val\n",
    "        if one_stepper:\n",
    "            one_stepper = one_stepper.next\n",
    "    \n",
    "#     while one_stepper or two_stepper.next:\n",
    "#         two_stepper = two_stepper.next.next\n",
    "#         one_stepper = one_stepper.next\n",
    "#     return one_stepper.val\n",
    "\n",
    "\n",
    "print(l)\n",
    "print(get_length(l.head))\n",
    "print(find_middle(l.head))"
   ]
  },
  {
   "cell_type": "markdown",
   "metadata": {
    "collapsed": true
   },
   "source": [
    "**Reverse a linkedlist**"
   ]
  },
  {
   "cell_type": "code",
   "execution_count": 39,
   "metadata": {
    "collapsed": false
   },
   "outputs": [
    {
     "name": "stdout",
     "output_type": "stream",
     "text": [
      "5->1->6->9->8->13->21->3->10->22->31\n",
      "31->22->10->3->21->13->8->9->6->1->5\n",
      "5->1->6->9->8->13->21->3->10->22->31\n"
     ]
    }
   ],
   "source": [
    "# https://www.geeksforgeeks.org/reverse-a-linked-list/\n",
    "\n",
    "# for recursive watch https://www.youtube.com/watch?v=MRe3UsRadKw\n",
    "def reverse_recursive(l,node):\n",
    "    if not node.next:\n",
    "        l.head = node\n",
    "        return\n",
    "    reversed_next = reverse_recursive(l,node.next)\n",
    "    node.next.next = node\n",
    "    node.next = None\n",
    "\n",
    "\n",
    "# 1->2->3->4->5->NULL\n",
    "# define prev,cur,next pointers\n",
    "def reverse(l):\n",
    "    prev = None\n",
    "    cur = l.head\n",
    "    next_node = cur.next\n",
    "    while next_node:\n",
    "        cur.next = prev\n",
    "        prev = cur\n",
    "        cur = next_node\n",
    "        next_node = cur.next\n",
    "#         print(\"p={},c={},n={}\".format(prev.val if prev else None,cur.val,next_node.val if next_node else None))\n",
    "    cur.next = prev\n",
    "    l.head = cur\n",
    "\n",
    "    \n",
    "head = Node(5)\n",
    "l = LinkedList(head)\n",
    "l.add_nodes([Node(1),Node(6),Node(9),Node(8),Node(13),Node(21),Node(3),Node(10),Node(22),Node(31)])\n",
    "print(l)\n",
    "reverse(l)\n",
    "print(l)\n",
    "reverse_recursive(l,l.head)\n",
    "print(l)"
   ]
  },
  {
   "cell_type": "markdown",
   "metadata": {},
   "source": [
    "**Detect Loop/ remove loop/ find loop length**"
   ]
  },
  {
   "cell_type": "code",
   "execution_count": 40,
   "metadata": {
    "collapsed": true
   },
   "outputs": [],
   "source": [
    "# with hashing\n",
    "\n",
    "\n",
    "# with Floyd’s Cycle-Finding (two pointers)\n"
   ]
  },
  {
   "cell_type": "markdown",
   "metadata": {},
   "source": [
    "**Nth node from the end of linkedlist**"
   ]
  },
  {
   "cell_type": "code",
   "execution_count": 52,
   "metadata": {
    "collapsed": false
   },
   "outputs": [
    {
     "name": "stdout",
     "output_type": "stream",
     "text": [
      "5->1->6->9->8->13->21->3->10->22->31\n",
      "(None, 21)\n",
      "21\n"
     ]
    }
   ],
   "source": [
    "# recursive solution\n",
    "def find_nth_from_end_recur(node,n):\n",
    "    if not node:\n",
    "        return 0,None\n",
    "    index,val= find_nth_from_end_recur(node.next,n)\n",
    "    if index==None:\n",
    "        return None,val\n",
    "    if index==n:\n",
    "        return None,node.val\n",
    "    return index+1,None\n",
    "\n",
    "\n",
    "# iterative sol with two pointers\n",
    "# set two pointer with distance n from each other\n",
    "def find_nth_from_end(head,n):\n",
    "    p1=head\n",
    "    p2=head\n",
    "    for _ in range(n):\n",
    "        p2 = p2.next\n",
    "    while p1 and p2:\n",
    "        p2 = p2.next\n",
    "        if not p2:\n",
    "            return p1.val\n",
    "        p1 = p1.next\n",
    "\n",
    "\n",
    "print(l)\n",
    "print(find_nth_from_end_recur(l.head,4))\n",
    "print(find_nth_from_end(l.head,4))"
   ]
  },
  {
   "cell_type": "markdown",
   "metadata": {},
   "source": [
    "**Is Palindrome?!**"
   ]
  },
  {
   "cell_type": "code",
   "execution_count": 5,
   "metadata": {
    "collapsed": false
   },
   "outputs": [
    {
     "name": "stdout",
     "output_type": "stream",
     "text": [
      "A->R->K->O->K->R->A\n"
     ]
    }
   ],
   "source": [
    "def is_palindrome_recur(node):\n",
    "    pass\n",
    "\n",
    "\n",
    "def is_palindrome(head):\n",
    "    pass\n",
    "    \n",
    "\n",
    "head = Node(\"A\")\n",
    "l = LinkedList(head)\n",
    "l.add_nodes([Node(\"R\"),Node(\"K\"),Node(\"O\"),Node(\"K\"),Node(\"R\"),Node(\"A\")])\n",
    "print(l)"
   ]
  },
  {
   "cell_type": "code",
   "execution_count": null,
   "metadata": {
    "collapsed": true
   },
   "outputs": [],
   "source": []
  }
 ],
 "metadata": {
  "anaconda-cloud": {},
  "kernelspec": {
   "display_name": "Python [conda root]",
   "language": "python",
   "name": "conda-root-py"
  },
  "language_info": {
   "codemirror_mode": {
    "name": "ipython",
    "version": 3
   },
   "file_extension": ".py",
   "mimetype": "text/x-python",
   "name": "python",
   "nbconvert_exporter": "python",
   "pygments_lexer": "ipython3",
   "version": "3.5.2"
  }
 },
 "nbformat": 4,
 "nbformat_minor": 2
}
