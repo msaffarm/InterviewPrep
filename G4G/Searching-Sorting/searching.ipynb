{
 "cells": [
  {
   "cell_type": "markdown",
   "metadata": {},
   "source": [
    "## Searching"
   ]
  },
  {
   "cell_type": "code",
   "execution_count": 20,
   "metadata": {
    "collapsed": false
   },
   "outputs": [
    {
     "name": "stdout",
     "output_type": "stream",
     "text": [
      "[0, 1, 2, 3, 4]\n",
      "None\n",
      "None\n"
     ]
    }
   ],
   "source": [
    "# https://www.geeksforgeeks.org/binary-search/\n",
    "\n",
    "def bs_iter(arr,val):\n",
    "    start,end = 0,len(arr)-1\n",
    "    mid = (start+end)//2\n",
    "    while start <= end:\n",
    "        mid = (start+end)//2\n",
    "        if arr[mid]==val:\n",
    "            return mid\n",
    "        elif arr[mid] < val:\n",
    "            start = mid+1\n",
    "        else:\n",
    "            end = mid-1\n",
    "\n",
    "def bs_recur(arr,val,start,end):\n",
    "    if not (start <= end):\n",
    "        return None\n",
    "    mid = (start+end)//2\n",
    "    if arr[mid]==val:\n",
    "        return mid\n",
    "    elif arr[mid] < val:\n",
    "        return bs_recur(arr,val,mid+1,end)\n",
    "    else:\n",
    "        return bs_recur(arr,val,start,mid-1)\n",
    "            \n",
    "l = list(range(5))\n",
    "print(l)\n",
    "val = 6\n",
    "print(bs_iter(l,val))\n",
    "print(bs_recur(l,val,0,len(l)-1))"
   ]
  },
  {
   "cell_type": "markdown",
   "metadata": {
    "collapsed": true
   },
   "source": [
    "# "
   ]
  }
 ],
 "metadata": {
  "anaconda-cloud": {},
  "kernelspec": {
   "display_name": "Python [conda root]",
   "language": "python",
   "name": "conda-root-py"
  },
  "language_info": {
   "codemirror_mode": {
    "name": "ipython",
    "version": 3
   },
   "file_extension": ".py",
   "mimetype": "text/x-python",
   "name": "python",
   "nbconvert_exporter": "python",
   "pygments_lexer": "ipython3",
   "version": "3.5.2"
  }
 },
 "nbformat": 4,
 "nbformat_minor": 2
}
