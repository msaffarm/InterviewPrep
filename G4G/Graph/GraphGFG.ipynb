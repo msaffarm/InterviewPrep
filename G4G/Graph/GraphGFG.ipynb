{
 "cells": [
  {
   "cell_type": "markdown",
   "metadata": {},
   "source": [
    "## Graph Data Structure And Algorithms\n",
    "**Source**:https://www.geeksforgeeks.org/graph-data-structure-and-algorithms/"
   ]
  },
  {
   "cell_type": "code",
   "execution_count": 11,
   "metadata": {
    "collapsed": true
   },
   "outputs": [],
   "source": [
    "# general graph class (handy!)\n",
    "from collections import defaultdict, deque\n",
    "\n",
    "\n",
    "class Graph(object):\n",
    "    def __init__(self,vertices=list()):\n",
    "        self.vertices = vertices\n",
    "        self.edges = defaultdict(list)\n",
    "\n",
    "    def add_vertex(self,v):\n",
    "        self.vertices.append(v)\n",
    "\n",
    "    def add_edge(self,s,t):\n",
    "        self.edges[s].append(t)\n",
    "\n",
    "    def add_edges(self,edge_list,type=\"directed\"):\n",
    "        for pair in edge_list:\n",
    "            s,t = pair\n",
    "            self.edges[s].append(t)\n",
    "            if type==\"undirected\":\n",
    "                self.edges[t].append(t)\n",
    "\n",
    "    def add_weighted_edge(self,s,t,w):\n",
    "        self.edges[s].append((t,w))\n",
    "\n",
    "    def add_weighted_edges(self,edge_list,type=\"directed\"):\n",
    "        for triple in edge_list:\n",
    "            s,t,w = triple\n",
    "            self.edges[s].append((t,w))\n",
    "            if type==\"undirected\":\n",
    "                self.edges[t].append((s,w))\n"
   ]
  },
  {
   "cell_type": "markdown",
   "metadata": {},
   "source": [
    "## Connectivity"
   ]
  },
  {
   "cell_type": "code",
   "execution_count": null,
   "metadata": {
    "collapsed": true
   },
   "outputs": [],
   "source": []
  },
  {
   "cell_type": "markdown",
   "metadata": {},
   "source": [
    "## Topological Sorting"
   ]
  },
  {
   "cell_type": "code",
   "execution_count": 4,
   "metadata": {
    "collapsed": false
   },
   "outputs": [
    {
     "name": "stdout",
     "output_type": "stream",
     "text": [
      "defaultdict(<class 'list'>, {2: [3], 3: [1], 4: [0, 1], 5: [0, 2]})\n",
      "[5, 4, 2, 3, 1, 0]\n"
     ]
    }
   ],
   "source": [
    "def dfs(g,node,visited,sol):\n",
    "    visited.add(node)\n",
    "    for neigh in g.edges[node]:\n",
    "        if neigh not in visited:\n",
    "            dfs(g,neigh,visited,sol)\n",
    "    sol.append(node)\n",
    "\n",
    "\n",
    "# Topological sorting (only for DAGs)\n",
    "def topological_sort(g):\n",
    "    visited = set()\n",
    "    sol = deque()\n",
    "    for node in g.vertices:\n",
    "        if node not in visited:\n",
    "            dfs(g,node,visited,sol)\n",
    "    return [x for x in reversed(sol)]\n",
    "\n",
    "g = Graph(list(range(6)))\n",
    "g.add_edges([(2,3),(3,1),(4,0),(4,1),(5,0),(5,2)])\n",
    "print(g.edges)\n",
    "print(topological_sort(g))"
   ]
  },
  {
   "cell_type": "markdown",
   "metadata": {},
   "source": [
    "## Shortest and Longest Path"
   ]
  },
  {
   "cell_type": "markdown",
   "metadata": {},
   "source": [
    "### Shortest path in a DAG with O(V + E)\n",
    "For a general weighted graph, we can calculate single source shortest distances in O(VE) time using Bellman–Ford Algorithm. For a graph with no negative weights, we can do better and calculate single source shortest distances in O(E + VLogV) time using Dijkstra’s algorithm. Can we do even better for Directed Acyclic Graph (DAG)? We can calculate single source shortest distances in O(V+E) time for DAGs"
   ]
  },
  {
   "cell_type": "code",
   "execution_count": 5,
   "metadata": {
    "collapsed": false
   },
   "outputs": [
    {
     "name": "stdout",
     "output_type": "stream",
     "text": [
      "defaultdict(<class 'list'>, {0: [(1, 5), (2, 3)], 1: [(3, 6), (2, 2)], 2: [(4, 4), (5, 2), (3, 7)], 3: [(4, -1)], 4: [(5, -2)]})\n",
      "[0, 1, 2, 3, 4, 5]\n",
      "defaultdict(<function find_shortest_path_in_DAG.<locals>.<lambda> at 0x7f0004622268>, {0: inf, 1: inf, 2: inf, 3: inf, 4: 0, 5: -2})\n"
     ]
    }
   ],
   "source": [
    "# https://www.geeksforgeeks.org/shortest-path-for-directed-acyclic-graphs/\n",
    "\n",
    "def dfs(g,node,visited,sol):\n",
    "    visited.add(node)\n",
    "    for neigh,_ in g.edges[node]:\n",
    "        if neigh not in visited:\n",
    "            dfs(g,neigh,visited,sol)\n",
    "    sol.append(node)\n",
    "\n",
    "# Topological sorting (only for DAGs)\n",
    "def topological_sort(g):\n",
    "    visited = set()\n",
    "    sol = deque()\n",
    "    for node in g.vertices:\n",
    "        if node not in visited:\n",
    "            dfs(g,node,visited,sol)\n",
    "    return [x for x in reversed(sol)]\n",
    "\n",
    "def find_shortest_path_in_DAG(g,source):\n",
    "    sorted_vs = topological_sort(g)\n",
    "    print(sorted_vs)\n",
    "#     dist = defaultdict(float(\"inf\"))\n",
    "    dist = defaultdict(lambda:float(\"inf\"))\n",
    "    dist[source]=0\n",
    "    # u-->v\n",
    "    for u in sorted_vs:\n",
    "        for v,w in g.edges[u]:\n",
    "            if dist[v] > dist[u] + w:\n",
    "                dist[v] = dist[u] + w\n",
    "    return dist\n",
    "    \n",
    "\n",
    "# create a weighted DAG\n",
    "g = Graph(list(range(6)))\n",
    "g.add_weighted_edges([(0,1,5),(0,2,3),(1,3,6),(1,2,2),(2,4,4),\n",
    "                     (2,5,2),(2,3,7),(3,4,-1),(4,5,-2)])\n",
    "\n",
    "print(g.edges)\n",
    "print(find_shortest_path_in_DAG(g,4))\n",
    "\n"
   ]
  },
  {
   "cell_type": "markdown",
   "metadata": {},
   "source": [
    "### Longest Path in DAG\n",
    "The longest path problem for a general graph is not as easy as the shortest path problem because the longest path problem doesn’t have optimal substructure property. In fact, the Longest Path problem is NP-Hard for a general graph. However, the longest path problem has a linear time solution for directed acyclic graphs. The idea is similar to linear time solution for shortest path in a directed acyclic graph., we use Topological Sorting."
   ]
  },
  {
   "cell_type": "code",
   "execution_count": 31,
   "metadata": {
    "collapsed": false
   },
   "outputs": [
    {
     "name": "stdout",
     "output_type": "stream",
     "text": [
      "defaultdict(<class 'list'>, {0: [(1, 5), (2, 3)], 1: [(3, 6), (2, 2)], 2: [(4, 4), (5, 2), (3, 7)], 3: [(4, -1)], 4: [(5, -2)]})\n",
      "[0, 1, 2, 3, 4, 5]\n",
      "defaultdict(<function find_longest_path_in_DAG.<locals>.<lambda> at 0x7f000460aa60>, {0: -inf, 1: 0, 2: 2, 3: 9, 4: 8, 5: 6})\n"
     ]
    }
   ],
   "source": [
    "# https://www.geeksforgeeks.org/find-longest-path-directed-acyclic-graph/\n",
    "def find_longest_path_in_DAG(g,source):\n",
    "    sorted_vs = topological_sort(g)\n",
    "    print(sorted_vs)\n",
    "#     dist = defaultdict(float(\"inf\"))\n",
    "    dist = defaultdict(lambda:-float(\"inf\"))\n",
    "    dist[source]=0\n",
    "    # u-->v\n",
    "    for u in sorted_vs:\n",
    "        for v,w in g.edges[u]:\n",
    "            if dist[v] < dist[u] + w:\n",
    "                dist[v] = dist[u] + w\n",
    "    return dist\n",
    "    \n",
    "\n",
    "# create a weighted DAG\n",
    "g = Graph(list(range(6)))\n",
    "g.add_weighted_edges([(0,1,5),(0,2,3),(1,3,6),(1,2,2),(2,4,4),\n",
    "                     (2,5,2),(2,3,7),(3,4,-1),(4,5,-2)])\n",
    "\n",
    "print(g.edges)\n",
    "print(find_longest_path_in_DAG(g,1))"
   ]
  },
  {
   "cell_type": "markdown",
   "metadata": {
    "collapsed": true
   },
   "source": [
    "### Shortest path to target in DAG"
   ]
  },
  {
   "cell_type": "code",
   "execution_count": 8,
   "metadata": {
    "collapsed": false
   },
   "outputs": [
    {
     "name": "stdout",
     "output_type": "stream",
     "text": [
      "defaultdict(<class 'list'>, {0: [(1, 5), (2, 3)], 1: [(3, 6), (2, 2)], 2: [(4, 4), (5, 2), (3, 7)], 3: [(4, -1)], 4: [(5, -2)]})\n",
      "[0, 1, 2, 3, 4, 5]\n",
      "defaultdict(<function find_shortest_path_to_target_in_DAG.<locals>.<lambda> at 0x7f0004622400>, {0: inf, 1: inf, 2: 0, 3: 7, 4: 4, 5: 2})\n"
     ]
    }
   ],
   "source": [
    "def find_shortest_path_to_target_in_DAG(g,target):\n",
    "    sorted_vs = topological_sort(g)\n",
    "    print(sorted_vs)\n",
    "#     dist = defaultdict(float(\"inf\"))\n",
    "    dist = defaultdict(lambda:float(\"inf\"))\n",
    "    dist[target]=0\n",
    "    # u-->v\n",
    "    for v in sorted_vs[::-1]:\n",
    "        for u,w in g.edges[v]:\n",
    "            if dist[u] > dist[v] + w:\n",
    "                dist[u] = dist[v] + w\n",
    "    return dist\n",
    "    \n",
    "\n",
    "# create a weighted DAG\n",
    "g = Graph(list(range(6)))\n",
    "g.add_weighted_edges([(0,1,5),(0,2,3),(1,3,6),(1,2,2),(2,4,4),\n",
    "                     (2,5,2),(2,3,7),(3,4,-1),(4,5,-2)])\n",
    "\n",
    "print(g.edges)\n",
    "print(find_shortest_path_to_target_in_DAG(g,2))"
   ]
  },
  {
   "cell_type": "markdown",
   "metadata": {},
   "source": [
    "### Djikstra!"
   ]
  },
  {
   "cell_type": "code",
   "execution_count": 35,
   "metadata": {
    "collapsed": false
   },
   "outputs": [
    {
     "name": "stdout",
     "output_type": "stream",
     "text": [
      "defaultdict(<class 'list'>, {0: [(1, 4), (7, 8)], 1: [(0, 4), (2, 8), (7, 11)], 2: [(1, 8), (3, 7), (8, 2), (5, 4)], 3: [(2, 7), (4, 9), (5, 14)], 4: [(3, 9), (5, 10)], 5: [(2, 4), (3, 14), (4, 10), (6, 2)], 6: [(5, 2), (7, 1), (8, 6)], 7: [(0, 8), (1, 11), (6, 1), (8, 7)], 8: [(2, 2), (6, 6), (7, 7)]})\n",
      "defaultdict(<function Dijkstra.<locals>.<lambda> at 0x7f0004598378>, {0: 0, 1: 4, 2: 12, 3: 19, 4: 21, 5: 11, 6: 9, 7: 8, 8: 14})\n",
      "defaultdict(<function Dijkstra.<locals>.<lambda> at 0x7f00045982f0>, {1: 0, 2: 1, 3: 2, 4: 5, 5: 6, 6: 7, 7: 0, 8: 2})\n",
      "4\n",
      "5\n",
      "6\n",
      "7\n",
      "07654\n"
     ]
    }
   ],
   "source": [
    "import heapq\n",
    "\n",
    "def find_shortest_path(source,target,prev_nodes):\n",
    "    path = str(target)\n",
    "    print(prev_nodes)\n",
    "    node = target\n",
    "    while prev_nodes[node]!=None:\n",
    "        print(node)\n",
    "        path += str(prev_nodes[node])\n",
    "        node = prev_nodes[node]\n",
    "    return path[::-1]\n",
    "\n",
    "\n",
    "def Dijkstra(g,source):\n",
    "    dist_dict = defaultdict(lambda:float(\"inf\"))\n",
    "    dist_dict[source] = 0\n",
    "    prev_node = defaultdict(lambda:None)\n",
    "    visited = set()\n",
    "    priority_queue = [(0,source)]\n",
    "    heapq.heapify(priority_queue)\n",
    "    while priority_queue:\n",
    "        cur_node = heapq.heappop(priority_queue)[1]\n",
    "        if cur_node in visited:\n",
    "            continue\n",
    "        for neigh,weight in g.edges[cur_node]:\n",
    "            dist = dist_dict[cur_node] + weight\n",
    "            if dist < dist_dict[neigh]:\n",
    "                dist_dict[neigh] = dist\n",
    "                prev_node[neigh] = cur_node\n",
    "                heapq.heappush(priority_queue,(dist,neigh))\n",
    "\n",
    "        visited.add(cur_node)\n",
    "    return dist_dict,prev_node\n",
    "\n",
    "g = Graph(list(range(9)))\n",
    "g.add_weighted_edges([(0,1,4),(0,7,8),(1,2,8),(1,7,11),(2,3,7),(2,8,2),(2,5,4),(3,4,9),\n",
    "                     (3,5,14),(4,5,10),(5,6,2),(6,7,1),(6,8,6),(7,8,7)],type=\"undirected\")\n",
    "print(g.edges)\n",
    "dist,prevs = Dijkstra(g,0)\n",
    "print(dist)\n",
    "print(find_shortest_path(0,4,prevs))\n",
    "\n"
   ]
  },
  {
   "cell_type": "code",
   "execution_count": null,
   "metadata": {
    "collapsed": true
   },
   "outputs": [],
   "source": []
  }
 ],
 "metadata": {
  "anaconda-cloud": {},
  "kernelspec": {
   "display_name": "Python [conda root]",
   "language": "python",
   "name": "conda-root-py"
  },
  "language_info": {
   "codemirror_mode": {
    "name": "ipython",
    "version": 3
   },
   "file_extension": ".py",
   "mimetype": "text/x-python",
   "name": "python",
   "nbconvert_exporter": "python",
   "pygments_lexer": "ipython3",
   "version": "3.5.2"
  }
 },
 "nbformat": 4,
 "nbformat_minor": 2
}
