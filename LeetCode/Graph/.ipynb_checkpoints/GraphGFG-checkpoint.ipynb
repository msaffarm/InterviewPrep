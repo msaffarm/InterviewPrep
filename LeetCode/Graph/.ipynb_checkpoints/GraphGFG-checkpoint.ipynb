{
 "cells": [
  {
   "cell_type": "markdown",
   "metadata": {},
   "source": [
    "## Graph Data Structure And Algorithms\n",
    "**Source**:https://www.geeksforgeeks.org/graph-data-structure-and-algorithms/"
   ]
  },
  {
   "cell_type": "code",
   "execution_count": 2,
   "metadata": {
    "collapsed": true
   },
   "outputs": [],
   "source": [
    "# general graph class (handy!)\n",
    "from collections import defaultdict, deque\n",
    "\n",
    "\n",
    "class Graph(object):\n",
    "    def __init__(self,vertices=list()):\n",
    "        self.vertices = vertices\n",
    "        self.edges = defaultdict(list)\n",
    "\n",
    "    def add_vertex(self,v):\n",
    "        self.vertices.append(v)\n",
    "\n",
    "    def add_edge(self,s,t):\n",
    "        self.edges[s].append(t)\n",
    "\n",
    "    def add_edges(self,edge_list):\n",
    "        for pair in edge_list:\n",
    "            s,t = pair\n",
    "            self.edges[s].append(t)\n",
    "\n",
    "    def add_weighted_edge(self,s,t,w):\n",
    "        self.edges[s].append((t,w))\n",
    "\n",
    "    def add_weighted_edges(self,edge_list):\n",
    "        for triple in edge_list:\n",
    "            s,t,w = triple\n",
    "            self.edges[s].append((t,w))\n"
   ]
  },
  {
   "cell_type": "markdown",
   "metadata": {},
   "source": [
    "## Connectivity"
   ]
  },
  {
   "cell_type": "code",
   "execution_count": null,
   "metadata": {
    "collapsed": true
   },
   "outputs": [],
   "source": []
  },
  {
   "cell_type": "markdown",
   "metadata": {},
   "source": [
    "## Topological Sorting"
   ]
  },
  {
   "cell_type": "code",
   "execution_count": 3,
   "metadata": {
    "collapsed": false
   },
   "outputs": [
    {
     "name": "stdout",
     "output_type": "stream",
     "text": [
      "defaultdict(<class 'list'>, {2: [3], 3: [1], 4: [0, 1], 5: [0, 2]})\n",
      "[5, 4, 2, 3, 1, 0]\n"
     ]
    }
   ],
   "source": [
    "def dfs(g,node,visited,sol):\n",
    "    visited.add(node)\n",
    "    for neigh in g.edges[node]:\n",
    "        if neigh not in visited:\n",
    "            dfs(g,neigh,visited,sol)\n",
    "    sol.append(node)\n",
    "\n",
    "\n",
    "# Topological sorting (only for DAGs)\n",
    "def topological_sort(g):\n",
    "    visited = set()\n",
    "    sol = deque()\n",
    "    for node in g.vertices:\n",
    "        if node not in visited:\n",
    "            dfs(g,node,visited,sol)\n",
    "    return [x for x in reversed(sol)]\n",
    "\n",
    "g = Graph(list(range(6)))\n",
    "g.add_edges([(2,3),(3,1),(4,0),(4,1),(5,0),(5,2)])\n",
    "print(g.edges)\n",
    "print(topological_sort(g))"
   ]
  },
  {
   "cell_type": "markdown",
   "metadata": {},
   "source": [
    "## Shortest Path"
   ]
  },
  {
   "cell_type": "markdown",
   "metadata": {},
   "source": [
    "### Shortest path in a DAG with O(V + E)\n",
    "For a general weighted graph, we can calculate single source shortest distances in O(VE) time using Bellman–Ford Algorithm. For a graph with no negative weights, we can do better and calculate single source shortest distances in O(E + VLogV) time using Dijkstra’s algorithm. Can we do even better for Directed Acyclic Graph (DAG)? We can calculate single source shortest distances in O(V+E) time for DAGs"
   ]
  },
  {
   "cell_type": "code",
   "execution_count": null,
   "metadata": {
    "collapsed": true
   },
   "outputs": [],
   "source": [
    "def dfs(g,node,visited,sol):\n",
    "    visited.add(node)\n",
    "    for neigh in g.edges[node]:\n",
    "        if neigh not in visited:\n",
    "            dfs(g,neigh,visited,sol)\n",
    "    sol.append(node)\n",
    "\n",
    "\n",
    "# Topological sorting (only for DAGs)\n",
    "def topological_sort(g):\n",
    "    visited = set()\n",
    "    sol = deque()\n",
    "    for node in g.vertices:\n",
    "        if node not in visited:\n",
    "            dfs(g,node,visited,sol)\n",
    "    return [x for x in reversed(sol)]\n",
    "\n",
    "g = Graph(list(range(6)))\n",
    "g.add_weighted_edges([(0,1,5),(0,2,3),(1,3,6),(1,2,2),(2,4,4),\n",
    "                     (2,5,2),(2,3,7),(3,4,-1),(4,5,-2)])\n",
    "print(g.edges)\n",
    "\n"
   ]
  }
 ],
 "metadata": {
  "anaconda-cloud": {},
  "kernelspec": {
   "display_name": "Python [conda root]",
   "language": "python",
   "name": "conda-root-py"
  },
  "language_info": {
   "codemirror_mode": {
    "name": "ipython",
    "version": 3
   },
   "file_extension": ".py",
   "mimetype": "text/x-python",
   "name": "python",
   "nbconvert_exporter": "python",
   "pygments_lexer": "ipython3",
   "version": "3.5.2"
  }
 },
 "nbformat": 4,
 "nbformat_minor": 2
}
